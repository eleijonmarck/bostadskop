{
 "cells": [
  {
   "cell_type": "code",
   "execution_count": 18,
   "metadata": {
    "collapsed": true
   },
   "outputs": [],
   "source": [
    "import numpy as np\n",
    "import requests\n",
    "\n",
    "import sys\n",
    "import os"
   ]
  },
  {
   "cell_type": "markdown",
   "metadata": {},
   "source": [
    "Autentisering\n",
    "\n",
    "Alla anrop autentiseras genom parametrarna callerId, time, unique och hash som skickas med i frågan. Ett exempel på hur en fråga till API:et kan se ut visas här:\n",
    "\n",
    "```\n",
    "https://api.booli.se/listings?q=nacka&limit=3&offset=0&callerId=[callerId]&time=1323793365&unique=3116053465361547264&hash=a053d19fcced8e180df1a40b3fc95b6560eee1af\n",
    "```\n",
    "\n",
    "**callerId** är det namn du angav då du registrerade dig.\n",
    "\n",
    "**time** är en UNIX timestamp.\n",
    "\n",
    "**unique** är en 16 tecken lång sträng som slumpgenereras för varje förfrågan, t.ex. ”f4508htyuk98fe4f”.\n",
    "\n",
    "**hash** är en sha1hash sha1(callerId + time + key + unique) som en 40-char hexadecimal, t.ex. ”6b76a4ede12897d42dabc2a5f9270bbdb76985af”, där key är den privata nyckel du tilldelats."
   ]
  },
  {
   "cell_type": "code",
   "execution_count": 11,
   "metadata": {
    "collapsed": true
   },
   "outputs": [],
   "source": [
    "\"\"\"\n",
    "/listings?q=vasastan - listings of the query\n",
    "/sold?q=vasastan - sold listings of the query\n",
    "/areas?q=vasastan - areas, gives the surroinds areas of the area\n",
    "\"\"\"\n",
    "\n",
    "open_listings_query = \"/listings?q=vasastan\"\n",
    "sold_listings_query = \"/sold?q=vasastan\"\n",
    "booli_api_url = \"https://api.booli.se\""
   ]
  },
  {
   "cell_type": "code",
   "execution_count": 15,
   "metadata": {
    "collapsed": false
   },
   "outputs": [],
   "source": [
    "import string\n",
    "import random\n",
    "import time\n",
    "import hashlib\n",
    "\n",
    "\n",
    "caller_id = os.environ['BOOLI_CALLERID']\n",
    "key = os.environ['BOOLI_KEY']\n",
    "time_for_generation = time.time()\n",
    "unique = id_generator()\n",
    "\n",
    "# generate unique string\n",
    "def id_generator(size=16, chars=string.ascii_uppercase + string.digits):\n",
    "    return ''.join(random.choice(chars) for _ in range(size))\n",
    "\n",
    "# generate a 40 hexadecimal based on callerid, time, key, unique\n",
    "def sha1_generator():\n",
    "    sha_hash = hashlib.sha1(caller_id + str(time_for_generation) + key + unique)\n",
    "    return sha_hash.hexdigest()"
   ]
  },
  {
   "cell_type": "code",
   "execution_count": 12,
   "metadata": {
    "collapsed": true
   },
   "outputs": [],
   "source": [
    "open_listings_response = requests.get(booli_api_url + open_listings_response,caller_id)"
   ]
  },
  {
   "cell_type": "code",
   "execution_count": 23,
   "metadata": {
    "collapsed": false
   },
   "outputs": [],
   "source": [
    "params = { 'caller_id' : caller_id, 'key' : key, 'time' : str(time_for_generation), 'unique' : unique, 'sha1' : sha1_generator() }"
   ]
  },
  {
   "cell_type": "code",
   "execution_count": 24,
   "metadata": {
    "collapsed": false
   },
   "outputs": [
    {
     "data": {
      "text/plain": [
       "{'caller_id': 'ericsapi',\n",
       " 'key': 'arhhYIMPmGdCbUcOlJW7xlaMLzVYKpEc5uUrbBdx',\n",
       " 'sha1': '26326428d506c5d4ac13c5fd46bd6a7ae3c4c574',\n",
       " 'time': '1485155206.94',\n",
       " 'unique': 'MZTXEWPW7H1JY32C'}"
      ]
     },
     "execution_count": 24,
     "metadata": {},
     "output_type": "execute_result"
    }
   ],
   "source": [
    "params"
   ]
  },
  {
   "cell_type": "raw",
   "metadata": {},
   "source": []
  },
  {
   "cell_type": "code",
   "execution_count": null,
   "metadata": {
    "collapsed": true
   },
   "outputs": [],
   "source": []
  }
 ],
 "metadata": {
  "kernelspec": {
   "display_name": "Python 2",
   "language": "python",
   "name": "python2"
  },
  "language_info": {
   "codemirror_mode": {
    "name": "ipython",
    "version": 2
   },
   "file_extension": ".py",
   "mimetype": "text/x-python",
   "name": "python",
   "nbconvert_exporter": "python",
   "pygments_lexer": "ipython2",
   "version": "2.7.11"
  }
 },
 "nbformat": 4,
 "nbformat_minor": 0
}
